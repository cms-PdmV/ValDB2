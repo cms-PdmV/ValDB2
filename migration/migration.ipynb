{
 "cells": [
  {
   "cell_type": "markdown",
   "id": "87677bc9-6770-4997-b0aa-c285c02cf842",
   "metadata": {},
   "source": [
    "# Data migration"
   ]
  },
  {
   "cell_type": "markdown",
   "id": "3f16cdfa-ead8-4333-ae28-ca0448e0287a",
   "metadata": {},
   "source": [
    "## Required imports"
   ]
  },
  {
   "cell_type": "markdown",
   "id": "8ca3d0b9-2343-46ec-9a06-5d3a0fbf82de",
   "metadata": {},
   "source": [
    "Remember to install all packages required inside your working virtual Python environment"
   ]
  },
  {
   "cell_type": "code",
   "execution_count": 1,
   "id": "eb2d19ec-7acd-4e22-b667-56a8405c88c0",
   "metadata": {
    "tags": []
   },
   "outputs": [],
   "source": [
    "import pandas\n",
    "import sqlalchemy\n",
    "import json\n",
    "import numpy\n",
    "import requests\n",
    "import re\n",
    "import subprocess\n",
    "import datetime\n",
    "from json import JSONDecodeError\n",
    "from copy import deepcopy\n",
    "from http.cookiejar import CookieJar, MozillaCookieJar\n",
    "from tqdm.notebook import tqdm\n",
    "from datetime import date, datetime\n",
    "from dateutil.relativedelta import relativedelta"
   ]
  },
  {
   "cell_type": "markdown",
   "id": "1df62480-5b03-4da9-8853-e7e98a6f41fd",
   "metadata": {},
   "source": [
    "## Oracle Client Libraries\n",
    "\n",
    "To use **cx_Oracle connector**, it is required to install some libraries inside the execution environment: [Oracle Client Library](https://oracle.github.io/odpi/doc/installation.html#oracle-client-library-loading). Please install them and set the required environment variables before running this notebook"
   ]
  },
  {
   "cell_type": "markdown",
   "id": "854d51d7-523e-47ad-a4ac-4fae9f2bb471",
   "metadata": {
    "tags": []
   },
   "source": [
    "## Constants"
   ]
  },
  {
   "cell_type": "markdown",
   "id": "a274f4e1-03c1-4b64-981e-bf54c990ca9b",
   "metadata": {},
   "source": [
    "Space string"
   ]
  },
  {
   "cell_type": "code",
   "execution_count": 2,
   "id": "3335fba6-38aa-4241-827c-c178eb610301",
   "metadata": {
    "tags": []
   },
   "outputs": [],
   "source": [
    "SPACE = \" \""
   ]
  },
  {
   "cell_type": "markdown",
   "id": "1c308df3-9637-4392-a9c7-39fcc873c485",
   "metadata": {},
   "source": [
    "Clean all interspaces for a given string"
   ]
  },
  {
   "cell_type": "code",
   "execution_count": 3,
   "id": "b8de1c46-cea9-423b-a191-7fb1d48ef558",
   "metadata": {
    "tags": []
   },
   "outputs": [],
   "source": [
    "clean_spaces = lambda content: SPACE.join([c.strip() for c in content.strip().split(SPACE)])"
   ]
  },
  {
   "cell_type": "markdown",
   "id": "1f1b0cc9-13ca-4b68-a618-f088323af8c6",
   "metadata": {},
   "source": [
    "Custom JSON parser"
   ]
  },
  {
   "cell_type": "code",
   "execution_count": 4,
   "id": "bfeb906d-5257-4f1b-920d-6832db71a44d",
   "metadata": {
    "tags": []
   },
   "outputs": [],
   "source": [
    "def parse(obj):\n",
    "    \"\"\"JSON serializer for objects not serializable by default json code\"\"\"\n",
    "    if isinstance(obj, (datetime, date)):\n",
    "        return obj.isoformat()\n",
    "    if isinstance(obj, set):\n",
    "        return list(obj)\n",
    "    if isinstance(obj, requests.Response):\n",
    "        return obj.json()\n",
    "    raise TypeError (\"Type %s not serializable\" % type(obj))"
   ]
  },
  {
   "cell_type": "markdown",
   "id": "89f989bd-4dec-4e5e-82b7-1c02afe85599",
   "metadata": {},
   "source": [
    "Date reference to label a campaign as open"
   ]
  },
  {
   "cell_type": "code",
   "execution_count": 5,
   "id": "7d74c5e3-01b5-4755-9713-f137296e52f5",
   "metadata": {
    "tags": []
   },
   "outputs": [],
   "source": [
    "DATE_REFERENCE = (datetime.now() - relativedelta(months=2)).date()"
   ]
  },
  {
   "cell_type": "markdown",
   "id": "283cf30d-cd4b-4f8e-b165-6ed5467c38fd",
   "metadata": {},
   "source": [
    "Email pattern"
   ]
  },
  {
   "cell_type": "code",
   "execution_count": 6,
   "id": "137e109e-3d7d-4199-9180-5e7bc93df5f7",
   "metadata": {
    "tags": []
   },
   "outputs": [],
   "source": [
    "EMAIL_REGEX = r\"(^[a-zA-Z0-9_.+-]+@[a-zA-Z0-9-]+\\.[a-zA-Z0-9-.]+)\"\n",
    "email_regex = re.compile(EMAIL_REGEX)"
   ]
  },
  {
   "cell_type": "markdown",
   "id": "8e943d85-e77b-4e05-8ee6-49e82d2660af",
   "metadata": {},
   "source": [
    "Retrieve the email address if this exists inside into a given string, return empty string otherwise"
   ]
  },
  {
   "cell_type": "code",
   "execution_count": 7,
   "id": "6b38d37b-9dbb-4b5d-b53b-9e4b6460ca9e",
   "metadata": {
    "tags": []
   },
   "outputs": [],
   "source": [
    "def sanetize(pattern: re.Pattern, content: str) -> str:\n",
    "    result = pattern.search(content)\n",
    "    if not result:\n",
    "        return \"\"\n",
    "    return result[0]"
   ]
  },
  {
   "cell_type": "markdown",
   "id": "b9350870-a56c-42d2-9f21-32aa7612a92a",
   "metadata": {},
   "source": [
    "Sanetize release links"
   ]
  },
  {
   "cell_type": "code",
   "execution_count": 8,
   "id": "f8353cb6-487d-47af-987f-b488b0d2f275",
   "metadata": {
    "tags": []
   },
   "outputs": [],
   "source": [
    "LINKS_REGEX = r\"(\\[([\\d+][\\.\\d+]*)\\]\\s)?(https?://[-|_|A-Z|a-z|.|/|0-9]+)\"\n",
    "link_regex = re.compile(LINKS_REGEX)"
   ]
  },
  {
   "cell_type": "code",
   "execution_count": 9,
   "id": "57da2084-0ae2-45e3-b87e-8acf7cc2a387",
   "metadata": {
    "tags": []
   },
   "outputs": [],
   "source": [
    "def sanetize_links(content: str, pattern: re.Pattern = link_regex):\n",
    "    links: str = \"\"\n",
    "    default: str = \"No links provided\"\n",
    "    links_content = pattern.findall(content)\n",
    "    for link in links_content:\n",
    "        links += f\"{link[0]} {link[2]} \\n\"\n",
    "    if not links:\n",
    "        return default\n",
    "    return links"
   ]
  },
  {
   "cell_type": "markdown",
   "id": "ca117b0b-ed31-4f02-856c-87c8202acffb",
   "metadata": {},
   "source": [
    "Groups identifiers retrieved from: [groups.py](https://github.com/cms-PdmV/ValDB2/blob/main/data/group.py)"
   ]
  },
  {
   "cell_type": "code",
   "execution_count": 10,
   "id": "a048e100-fb6c-4ee1-99c1-886193f6d4de",
   "metadata": {
    "tags": []
   },
   "outputs": [],
   "source": [
    "uppercase = lambda str_list: [el.strip().upper() for el in str_list]\n",
    "dict_token = lambda token_list: dict(zip(uppercase(token_list), token_list))"
   ]
  },
  {
   "cell_type": "code",
   "execution_count": 11,
   "id": "e12c2cd4-9416-4240-a5cf-1717a551d371",
   "metadata": {
    "tags": []
   },
   "outputs": [],
   "source": [
    "# Tokens for fast parsing\n",
    "# Categories\n",
    "CATEGORIES = [\"Reconstruction\", \"HLT\", \"PAGs\", \"HIN\", \"GEN\"]\n",
    "CATEGORIES_TOKENS = dict_token(CATEGORIES)\n",
    "\n",
    "# Subcategories\n",
    "SUBCATEGORIES = [\"Data\", \"FastSim\", \"FullSim\", \"Gen\"]\n",
    "SUBCATEGORIES_TOKENS = dict_token(SUBCATEGORIES)\n",
    "\n",
    "# Groups\n",
    "reconstruction_groups = ['Tracker', 'Ecal', 'HGcal', 'Hcal', 'CASTOR', 'DT', 'CSC', 'RPC', 'GEM',\n",
    "    'MTD', 'PPS', 'L1', 'Tracking', 'Electron', 'Photon', 'Muon', 'Jet', 'MET', 'bTag', 'Tau',\n",
    "    'PF'\n",
    "]\n",
    "hlt_groups = ['Tracking', 'Electron', 'Photon', 'Muon', 'Jet', 'MET', 'bTag', 'Tau', 'SMP',\n",
    "    'Higgs', 'Top', 'NPS', 'Exotica', 'B2G', 'B', 'Fwd', 'HIN'\n",
    "]\n",
    "pags_groups = ['SMP', 'Higgs', 'Top', 'NPS', 'Exotica', 'B2G', 'B', 'Fwd', 'HIN']\n",
    "hin_groups = ['Tracking', 'Electron', 'Photon', 'Muon', 'Jet']\n",
    "gen_groups = ['GEN']\n",
    "\n",
    "GROUPS = set(reconstruction_groups + hlt_groups + pags_groups + hin_groups + gen_groups)\n",
    "GROUPS_TOKENS = dict_token(GROUPS)"
   ]
  },
  {
   "cell_type": "markdown",
   "id": "c858dc60-398d-4879-9ec4-9c570da7b764",
   "metadata": {},
   "source": [
    "Be carefull, for some reason it seems **HIN** category has two main identifiers: **HIN** & **IN** -> [Details](https://github.com/cms-PdmV/ValDB/blob/master/ajax_app.py#L489). This is the same case for **TK** group which means **TRACKER**"
   ]
  },
  {
   "cell_type": "code",
   "execution_count": 12,
   "id": "5cfea8c2-ab8f-4bf1-b0e0-4445ab7dc9a7",
   "metadata": {
    "tags": []
   },
   "outputs": [],
   "source": [
    "def parse_group_id(category: str, subcategory: str, status_kind: str = None) -> str:\n",
    "        # Retrieve proper identifiers using \n",
    "        # the available tokens\n",
    "        # Be aware of some special cases\n",
    "        if category == \"IN\":\n",
    "            category = \"HIN\"\n",
    "        if status_kind == \"TK\":\n",
    "            status_kind = \"TRACKER\"\n",
    "\n",
    "        category = CATEGORIES_TOKENS[category.upper()]\n",
    "        subcategory = SUBCATEGORIES_TOKENS[subcategory.upper()]\n",
    "        if status_kind:\n",
    "            status_kind = GROUPS_TOKENS[status_kind.upper()]\n",
    "            return \".\".join([category, subcategory, status_kind])\n",
    "        else:\n",
    "            return \".\".join([category, subcategory])"
   ]
  },
  {
   "cell_type": "markdown",
   "id": "f1d025a6-4ed0-432a-871f-7184dbec5627",
   "metadata": {},
   "source": [
    "Tokens to parse the release status. This entity will be known as report for the new application"
   ]
  },
  {
   "cell_type": "code",
   "execution_count": 13,
   "id": "b10c02d0-529a-4b3e-a20c-f794d49874d8",
   "metadata": {
    "tags": []
   },
   "outputs": [],
   "source": [
    "REPORT_STATUS = {\n",
    "    \"NOT YET DONE\": 2,\n",
    "    \"OK\": 1,\n",
    "    \"OK TO BE SIGNED-OFF BY THE VALIDATORS\": 1,\n",
    "    \"FAILURE\": 3,\n",
    "    \"CHANGES EXPECTED\": 4,\n",
    "    \"IN PROGRESS\": 5,\n",
    "    \"KNOWN ISSUE\": 6\n",
    "}"
   ]
  },
  {
   "cell_type": "markdown",
   "id": "53f772e0-4c94-4687-a137-c3b615f81b23",
   "metadata": {},
   "source": [
    "Send HTTP requests to the server"
   ]
  },
  {
   "cell_type": "code",
   "execution_count": 14,
   "id": "8f0afa06-88b5-4e77-a94a-f6d435481a01",
   "metadata": {
    "tags": []
   },
   "outputs": [],
   "source": [
    "def bulk_data(endpoint: str, data: dict, cookies: MozillaCookieJar) -> dict:\n",
    "    \"\"\"\n",
    "    Bulk data to the server via HTTP requests\n",
    "    \"\"\"\n",
    "    start_time = datetime.now()\n",
    "    requests_errors = {}\n",
    "    for key, value in data.items():\n",
    "        response = requests.post(url=endpoint, json=value, cookies=cookies)\n",
    "        if response.status_code != 200:\n",
    "            requests_errors[key] = {\n",
    "                \"body\": value,\n",
    "                \"response\": response\n",
    "            }\n",
    "    \n",
    "    end_time = datetime.now()\n",
    "    print(f\"Elapsed time: {end_time - start_time}\")\n",
    "    return requests_errors"
   ]
  },
  {
   "cell_type": "markdown",
   "id": "aa4fd4b1-36eb-4ec0-9fa7-1d087765e7d7",
   "metadata": {},
   "source": [
    "Retrieve target and references releases from report content"
   ]
  },
  {
   "cell_type": "code",
   "execution_count": 15,
   "id": "47d10fb7-7f01-4614-8f57-303ad83a1080",
   "metadata": {
    "tags": []
   },
   "outputs": [],
   "source": [
    "CAMPAIGN_REGEX = r\"[0-9]{1,3}_[0-9]{1,3}_[0-9]{1,3}.{0,40}\"\n",
    "TARGET_REGEX = re.compile(f\"Target: {CAMPAIGN_REGEX}\")\n",
    "REFERENCE_REGEX = re.compile(f\"Reference: {CAMPAIGN_REGEX}\")"
   ]
  },
  {
   "cell_type": "markdown",
   "id": "cc70b000-5f1f-4b8f-b5e8-2151e1d4d0d7",
   "metadata": {},
   "source": [
    "## Working variables"
   ]
  },
  {
   "cell_type": "markdown",
   "id": "e7a9e33a-f7bc-4ca9-afe1-21ad9600894a",
   "metadata": {},
   "source": [
    "### Production Database"
   ]
  },
  {
   "cell_type": "code",
   "execution_count": 16,
   "id": "f1e7d551-c48d-4460-82fc-25a14c52fc5f",
   "metadata": {
    "tags": []
   },
   "outputs": [],
   "source": [
    "CREDENTIALS_PATH = \"./data/credentials.json\""
   ]
  },
  {
   "cell_type": "markdown",
   "id": "7189bbdf-f998-48de-b155-0e6bfc2f681e",
   "metadata": {
    "tags": []
   },
   "source": [
    "Import database credentials"
   ]
  },
  {
   "cell_type": "code",
   "execution_count": 17,
   "id": "962173bf-096d-4b7c-a4bb-a69aeeb8eb99",
   "metadata": {
    "tags": []
   },
   "outputs": [],
   "source": [
    "with open(file=CREDENTIALS_PATH, encoding=\"utf-8\", mode=\"r\") as cf:\n",
    "    credentials = json.load(cf)"
   ]
  },
  {
   "cell_type": "markdown",
   "id": "19169d2e-6d97-4273-9732-7a58d380d388",
   "metadata": {},
   "source": [
    "Import cookies to authenticate to send requests to the server"
   ]
  },
  {
   "cell_type": "code",
   "execution_count": 18,
   "id": "50c6409c-1a32-4147-82a1-a8abb3c65a69",
   "metadata": {
    "tags": []
   },
   "outputs": [],
   "source": [
    "cookies = MozillaCookieJar(credentials[\"new\"][\"cookie_location\"])\n",
    "cookies.load()"
   ]
  },
  {
   "cell_type": "markdown",
   "id": "f8be1877-4157-4cbe-b3f3-1bd7107a5b22",
   "metadata": {},
   "source": [
    "Connection URI for SQLAlchemy"
   ]
  },
  {
   "cell_type": "code",
   "execution_count": 19,
   "id": "6d3eb3ec-151b-42b5-b67f-ace3e7d247ba",
   "metadata": {
    "tags": []
   },
   "outputs": [],
   "source": [
    "prod_db_user = credentials['old']['database_username']\n",
    "prod_db_password = credentials['old']['database_password']\n",
    "prod_db = credentials['old']['database_url']\n",
    "prob_db_service = credentials['old']['database_service']\n",
    "prod_db_uri = f\"oracle+cx_oracle://{prod_db_user}:{prod_db_password}@{prod_db}/?service_name={prob_db_service}\""
   ]
  },
  {
   "cell_type": "markdown",
   "id": "8395f38e-cd8c-452c-ac72-329a9246b6df",
   "metadata": {},
   "source": [
    "Create a SQLAlchemy Session"
   ]
  },
  {
   "cell_type": "code",
   "execution_count": 20,
   "id": "18e241b6-990f-446c-8b02-3196f5c0f616",
   "metadata": {
    "tags": []
   },
   "outputs": [],
   "source": [
    "engine = sqlalchemy.create_engine(prod_db_uri, arraysize=1000)"
   ]
  },
  {
   "cell_type": "markdown",
   "id": "10d748f2-412a-4dec-9666-25823abaa0c3",
   "metadata": {},
   "source": [
    "### User data"
   ]
  },
  {
   "cell_type": "markdown",
   "id": "2bd9dd16-7327-4f85-862e-36e152b0475b",
   "metadata": {},
   "source": [
    "To retrieve user information from CERN LDAP, install first the following package available inside CC8 Linux: [PyPhoneBook](https://pyphonebook.docs.cern.ch/index.html)"
   ]
  },
  {
   "cell_type": "code",
   "execution_count": 21,
   "id": "be84ef81-e9ea-44a5-8448-cba27f15efaa",
   "metadata": {
    "tags": []
   },
   "outputs": [],
   "source": [
    "def retrieve_user_information(email: str = None, login: str = None, fullname = None) -> dict:\n",
    "    \"\"\"\n",
    "    Retrieve user email and fullname from CERN LDAP using the user email, login or its fullname \n",
    "    \n",
    "    Parameters\n",
    "    ------------\n",
    "    email: str\n",
    "        User email\n",
    "    login: str\n",
    "        CERN user login\n",
    "    fullname: str\n",
    "        User display name register in CERN LDAP\n",
    "    \n",
    "    Returns\n",
    "    --------\n",
    "    dict:\n",
    "        Username, email and user fullname if user is still registered and active in CERN.\n",
    "        None otherwise\n",
    "    \"\"\"\n",
    "    SPACE= \" \"\n",
    "    \n",
    "    if not email and not login and not fullname:\n",
    "        raise ValueError(\"Please set the user email or its login or its fullname\")\n",
    "        \n",
    "    def execute_parse_output(command: str) -> dict:\n",
    "        shell_execution = subprocess.run(\n",
    "            command,\n",
    "            capture_output=True,\n",
    "            shell=True,\n",
    "            encoding=\"utf-8\"\n",
    "        )\n",
    "        try:\n",
    "            execution_result = shell_execution.stdout\n",
    "            user_data = json.loads(execution_result)\n",
    "            if user_data:\n",
    "                user_info_list = user_data[0]\n",
    "                # For some reason, the PyPhonebook application delivers this as a list\n",
    "                return {\n",
    "                    \"displayname\": user_info_list[\"displayname\"][0],\n",
    "                    \"user_email\": user_info_list[\"email\"][0],\n",
    "                    \"login\": user_info_list[\"login\"][0]\n",
    "                } \n",
    "            return None\n",
    "        except JSONDecodeError as e:\n",
    "            print(f\"Error decoding: {execution_result}\")\n",
    "            return None\n",
    "            \n",
    "    \n",
    "    if email:\n",
    "        command = f\"pyphonebook --email {email} --json displayname --json email --json login\"\n",
    "        return execute_parse_output(command=command)\n",
    "    \n",
    "    if login:\n",
    "        command = f\"pyphonebook --login {login} --json displayname --json email --json login\"\n",
    "        return execute_parse_output(command=command)\n",
    "    \n",
    "    if fullname:\n",
    "        # Here we have 2 possibilities\n",
    "        # Sadly, it is not possible to query by fullname directly, So, consider the following cases:\n",
    "        # 1. Fullname has only two members: Name and Lastname\n",
    "        # 2. Fullname has three or more members: Two firstnames and one or more lastnames or one firstname and two or more lastnames\n",
    "        fullname_parts = fullname.strip().split(SPACE)\n",
    "        fullname_parts = [part.strip() for part in fullname_parts if part]\n",
    "        \n",
    "        # Case 1\n",
    "        if len(fullname_parts) == 2:\n",
    "            command = f\"pyphonebook --firstname '{fullname_parts[0]}' --surname '{fullname_parts[1]}' --json displayname --json email --json login\"\n",
    "            return execute_parse_output(command=command)\n",
    "        \n",
    "        # Case 2: \n",
    "        if len(fullname_parts) >= 3:\n",
    "            # Two firstnames and two or more lastnames\n",
    "            command = f\"pyphonebook --firstname '{fullname_parts[0]} {fullname_parts[1]}' --surname '{SPACE.join(fullname_parts[2:])}' --json displayname --json email --json login\"\n",
    "            user_data = execute_parse_output(command=command)\n",
    "            if user_data:\n",
    "                return user_data\n",
    "            else:\n",
    "                # One firstname and two or more lastnames\n",
    "                one_firstname_more_two_lastnames = f\"pyphonebook --firstname '{fullname_parts[0]}' --surname '{SPACE.join(fullname_parts[1:])}' --json displayname --json email --json login\"\n",
    "                user_data = execute_parse_output(command=one_firstname_more_two_lastnames)\n",
    "                if user_data:\n",
    "                    return user_data\n",
    "                \n",
    "        # Something unexpected happened\n",
    "        print(f\"Please be aware of case: {fullname}\")\n",
    "        return None"
   ]
  },
  {
   "cell_type": "markdown",
   "id": "9bd6d24e-7a32-4091-bf5a-87bcf941c8b4",
   "metadata": {},
   "source": [
    "## Retrieve data using Pandas and SQL queries"
   ]
  },
  {
   "cell_type": "markdown",
   "id": "1e17ab62-75d7-4204-91e7-2995723547f7",
   "metadata": {},
   "source": [
    "### Validators"
   ]
  },
  {
   "cell_type": "markdown",
   "id": "b23d5460-f8a4-477e-902e-568391cd4c38",
   "metadata": {},
   "source": [
    "Retrieve all user data related to validators"
   ]
  },
  {
   "cell_type": "code",
   "execution_count": 22,
   "id": "f04ae3e5-899e-403c-b0d3-9a7a2c5735b7",
   "metadata": {},
   "outputs": [],
   "source": [
    "user_get_query = \"\"\"\n",
    "SELECT U.USER_NAME, U.EMAIL, U.ADMIN, U.VALIDATOR, UR.CATEGORY, UR.SUBCATEGORY,\tUR.STATUS_KIND\n",
    "FROM CMS_PDMV_VAL.USERS U, CMS_PDMV_VAL.USER_RIGHTS UR\n",
    "WHERE U.USER_NAME = UR.USER_NAME AND U.ADMIN = 0 AND U.VALIDATOR = 1\n",
    "\"\"\""
   ]
  },
  {
   "cell_type": "markdown",
   "id": "c065d316-db00-48cb-9936-6189c7de74fc",
   "metadata": {},
   "source": [
    "Execute the query using Pandas"
   ]
  },
  {
   "cell_type": "code",
   "execution_count": 23,
   "id": "baf22b79-749e-406f-91fa-427f5ede8a8e",
   "metadata": {
    "tags": []
   },
   "outputs": [],
   "source": [
    "user_data: pandas.DataFrame = pandas.read_sql(user_get_query, engine)"
   ]
  },
  {
   "cell_type": "markdown",
   "id": "b3491f65-6be8-453c-ad50-bfe6d3ecd99a",
   "metadata": {},
   "source": [
    "Remove all rows where the username has more than 8 characters."
   ]
  },
  {
   "cell_type": "code",
   "execution_count": 24,
   "id": "2e91bac6-6fd0-4350-b0f7-a3d9fe8175c2",
   "metadata": {
    "tags": []
   },
   "outputs": [],
   "source": [
    "user_data = user_data[(user_data[\"user_name\"].str.len() <= 8) & (user_data[\"user_name\"].str.len() > 0)]"
   ]
  },
  {
   "cell_type": "markdown",
   "id": "0f681792-03c8-435e-a151-617b87ea987a",
   "metadata": {},
   "source": [
    "Sanetize email information"
   ]
  },
  {
   "cell_type": "code",
   "execution_count": 25,
   "id": "f2c142cd-840a-4c5a-97df-8ec4ba8e8ec9",
   "metadata": {
    "tags": []
   },
   "outputs": [],
   "source": [
    "user_data[\"email\"] = user_data[\"email\"].apply(lambda email: sanetize(pattern=email_regex, content=email))"
   ]
  },
  {
   "cell_type": "markdown",
   "id": "557b097e-3734-4b61-a512-a93ed91fbaa2",
   "metadata": {},
   "source": [
    "Query CERN Phonebook and append user data"
   ]
  },
  {
   "cell_type": "code",
   "execution_count": 26,
   "id": "a44f12eb-c5c0-4500-a14d-2009b6cb67a4",
   "metadata": {
    "tags": []
   },
   "outputs": [],
   "source": [
    "validators_start_time = datetime.now()\n",
    "validators_user_name = [\n",
    "    retrieve_user_information(login=validator_username)\n",
    "    for validator_username\n",
    "    in list(user_data[\"user_name\"].unique())\n",
    "]\n",
    "validators_end_time = datetime.now()"
   ]
  },
  {
   "cell_type": "code",
   "execution_count": 27,
   "id": "43c56a93-ae26-48da-b78f-51c3b397b15e",
   "metadata": {},
   "outputs": [
    {
     "name": "stdout",
     "output_type": "stream",
     "text": [
      "Elapsed time: 0:00:22.598646\n"
     ]
    }
   ],
   "source": [
    "print(f\"Elapsed time: {validators_end_time - validators_start_time}\")"
   ]
  },
  {
   "cell_type": "markdown",
   "id": "35d8cc04-9d25-476e-b0e1-9f8d2d7d9bb6",
   "metadata": {},
   "source": [
    "Clean the list from **None** values"
   ]
  },
  {
   "cell_type": "code",
   "execution_count": 28,
   "id": "0f8b0674-7e6a-4ece-9c4b-421d5add1505",
   "metadata": {
    "tags": []
   },
   "outputs": [],
   "source": [
    "validators_user_name = [el for el in validators_user_name if el]"
   ]
  },
  {
   "cell_type": "markdown",
   "id": "1c5c8108-a542-4e05-9a43-2bd10115c264",
   "metadata": {},
   "source": [
    "Parse it as a DataFrame to merge this data with the available"
   ]
  },
  {
   "cell_type": "code",
   "execution_count": 29,
   "id": "6eeabbee-1b7f-4db1-8d2d-a48272ab8624",
   "metadata": {
    "tags": []
   },
   "outputs": [],
   "source": [
    "validators_full_data: pandas.DataFrame = pandas.DataFrame(validators_user_name)"
   ]
  },
  {
   "cell_type": "code",
   "execution_count": 30,
   "id": "0e1ef29e-4bab-4d32-b8f8-45d50c0dc5dc",
   "metadata": {
    "tags": []
   },
   "outputs": [],
   "source": [
    "validators_data = user_data.merge(\n",
    "    right=validators_full_data,\n",
    "    how=\"inner\",\n",
    "    left_on=\"user_name\",\n",
    "    right_on=\"login\",\n",
    "    copy=True\n",
    ")"
   ]
  },
  {
   "cell_type": "markdown",
   "id": "e46e493e-81b3-4d64-86e1-5a8476f1c7a9",
   "metadata": {},
   "source": [
    "Below, there is the schema the application is expecting to register a user"
   ]
  },
  {
   "cell_type": "code",
   "execution_count": 31,
   "id": "e0221d66-ff2c-411d-8eaa-d0dc28850563",
   "metadata": {
    "tags": []
   },
   "outputs": [],
   "source": [
    "%%capture\n",
    "{\n",
    "    \"role\": 3,\n",
    "    \"email\": \"example@example.com\",\n",
    "    \"fullname\": \"John Doe\",\n",
    "    \"groups\": []\n",
    "}"
   ]
  },
  {
   "cell_type": "markdown",
   "id": "8a6b73be-830d-44bd-baa5-2f080d39bd7e",
   "metadata": {},
   "source": [
    "Group all user categories, subcategories and status kind per user"
   ]
  },
  {
   "cell_type": "code",
   "execution_count": 32,
   "id": "063e8a39-b1b8-4831-a72d-e333b73cb5da",
   "metadata": {
    "tags": []
   },
   "outputs": [],
   "source": [
    "def parse_validators_schema(user_data: pandas.DataFrame) -> dict:\n",
    "    validators = {}\n",
    "    schema = {\n",
    "        \"role\": 2,\n",
    "        \"email\": \"\",\n",
    "        \"fullname\": None,\n",
    "        \"groups\": []\n",
    "    }\n",
    "    user_data_json = user_data.to_dict(orient=\"records\")\n",
    "    for row in user_data_json:        \n",
    "        current_user_name = row[\"user_name\"]\n",
    "        current_user = validators.get(current_user_name)\n",
    "        if not current_user:\n",
    "            current_user = deepcopy(schema)\n",
    "            ldap_user_email = str(row[\"user_email\"]).lower()\n",
    "            old_valdb_user_email = str(row[\"email\"]).lower()\n",
    "            if ldap_user_email:\n",
    "                current_user[\"email\"] = ldap_user_email\n",
    "                current_user[\"fullname\"] = row[\"displayname\"]\n",
    "            else:\n",
    "                current_user[\"email\"] = old_valdb_user_email\n",
    "        \n",
    "        # Build group identifier\n",
    "        category = row[\"category\"]\n",
    "        subcategory = row[\"subcategory\"]\n",
    "        status_kind = row[\"status_kind\"]\n",
    "        \n",
    "        # Build Group Identifier\n",
    "        group_id = parse_group_id(\n",
    "            category=category,\n",
    "            subcategory=subcategory,\n",
    "            status_kind=status_kind\n",
    "        )\n",
    "        current_user[\"groups\"].append(group_id)\n",
    "        \n",
    "        # Persist for next iteration\n",
    "        validators[current_user_name] = current_user\n",
    "        \n",
    "    return validators"
   ]
  },
  {
   "cell_type": "code",
   "execution_count": 33,
   "id": "eb56340c-c58e-4a77-8a78-0622c3730962",
   "metadata": {
    "tags": []
   },
   "outputs": [],
   "source": [
    "user_data_parsed = parse_validators_schema(user_data=validators_data)"
   ]
  },
  {
   "cell_type": "markdown",
   "id": "dcdc9008-67fc-45c6-9681-921a514523ff",
   "metadata": {},
   "source": [
    "Insert all validator users"
   ]
  },
  {
   "cell_type": "code",
   "execution_count": 34,
   "id": "79feb546-e7de-4377-8748-60926fcd7a28",
   "metadata": {
    "tags": []
   },
   "outputs": [
    {
     "name": "stdout",
     "output_type": "stream",
     "text": [
      "Elapsed time: 0:01:08.813626\n"
     ]
    }
   ],
   "source": [
    "valdb_new_url = credentials[\"new\"][\"host_url\"]\n",
    "valdb_users = f\"{valdb_new_url}/api/users/\"\n",
    "valdb_validator_mig_errors = bulk_data(\n",
    "    endpoint=valdb_users,\n",
    "    data=user_data_parsed,\n",
    "    cookies=cookies\n",
    ")"
   ]
  },
  {
   "cell_type": "markdown",
   "id": "88f4d2ea-2328-429b-86c4-925d362ca369",
   "metadata": {},
   "source": [
    "Display errors if they happened"
   ]
  },
  {
   "cell_type": "code",
   "execution_count": 35,
   "id": "af78de38-1514-4c1c-8f39-85bfd83dd4d8",
   "metadata": {
    "tags": []
   },
   "outputs": [
    {
     "name": "stdout",
     "output_type": "stream",
     "text": [
      "Validator user migration successfully\n"
     ]
    }
   ],
   "source": [
    "if not valdb_validator_mig_errors:\n",
    "    print(\"Validator user migration successfully\")\n",
    "else:\n",
    "    for user, report in valdb_validator_mig_errors.items():\n",
    "        print(f\"Issues migrating user: {user} information\")\n",
    "        print(\"Request body sent\")\n",
    "        print(report)"
   ]
  },
  {
   "cell_type": "markdown",
   "id": "8568f4d6-0526-43b3-a0ca-96c650f689a6",
   "metadata": {},
   "source": [
    "### Administrators"
   ]
  },
  {
   "cell_type": "code",
   "execution_count": 36,
   "id": "4f866671-069d-4974-a913-c9455974efb7",
   "metadata": {
    "tags": []
   },
   "outputs": [],
   "source": [
    "admins_get_query = \"\"\"\n",
    "SELECT U.USER_NAME, U.EMAIL, U.ADMIN, U.VALIDATOR\n",
    "FROM CMS_PDMV_VAL.USERS U\n",
    "WHERE U.ADMIN = 1\n",
    "\"\"\""
   ]
  },
  {
   "cell_type": "code",
   "execution_count": 37,
   "id": "9da93c88-7e0e-45de-a033-2b441bea4d2c",
   "metadata": {
    "tags": []
   },
   "outputs": [],
   "source": [
    "def parse_administrator_schema(user_data: pandas.DataFrame) -> dict:\n",
    "    admins = {}\n",
    "    schema = {\n",
    "        \"role\": 1,\n",
    "        \"email\": \"\",\n",
    "        \"fullname\": None,\n",
    "        \"groups\": []\n",
    "    }\n",
    "    user_data_json = user_data.to_dict(orient=\"records\")\n",
    "    for row in user_data_json:        \n",
    "        current_user_name = row[\"user_name\"]\n",
    "        current_user = admins.get(current_user_name)\n",
    "        if not current_user:\n",
    "            current_user = deepcopy(schema)\n",
    "            current_user[\"email\"] = str(row[\"email\"]).lower()\n",
    "            current_user[\"fullname\"] = row[\"fullname\"]\n",
    "        \n",
    "        # Persist for next iteration\n",
    "        admins[current_user_name] = current_user\n",
    "        \n",
    "    return admins"
   ]
  },
  {
   "cell_type": "code",
   "execution_count": 38,
   "id": "8d28a9b1-6dbb-4076-9513-bc9b6e082e10",
   "metadata": {
    "tags": []
   },
   "outputs": [],
   "source": [
    "admins_data: pandas.DataFrame = pandas.read_sql(admins_get_query, engine)"
   ]
  },
  {
   "cell_type": "code",
   "execution_count": 39,
   "id": "990573e7-56c7-4359-b37f-059878ba5a96",
   "metadata": {
    "tags": []
   },
   "outputs": [],
   "source": [
    "admins_sanitized_data: pandas.DataFrame = pandas.read_csv(filepath_or_buffer=credentials[\"new\"][\"admins_list_path\"])"
   ]
  },
  {
   "cell_type": "markdown",
   "id": "287c0e43-cbc1-4762-9b9c-351c4f7830c1",
   "metadata": {},
   "source": [
    "The sanitized data for administrators has the following attributes\n",
    "\n",
    "1. user_name: CERN \n",
    "2. email: Primary alias email registered at CERN\n",
    "3. fullname: User fullname registered at CERN"
   ]
  },
  {
   "cell_type": "markdown",
   "id": "a422bb86-0b26-4320-a08c-f8b4c9ed6841",
   "metadata": {},
   "source": [
    "Fetch login username for the current administrator registered inside the production environment "
   ]
  },
  {
   "cell_type": "code",
   "execution_count": 40,
   "id": "27e0fc46-f3c1-44fe-982d-e910c4855c51",
   "metadata": {
    "tags": []
   },
   "outputs": [],
   "source": [
    "admins_data_logins = list(admins_data[\"user_name\"])"
   ]
  },
  {
   "cell_type": "markdown",
   "id": "3753a5d0-a12d-45ca-a33d-3da7cd811977",
   "metadata": {
    "tags": []
   },
   "source": [
    "Retrieve the subset of those who remain active"
   ]
  },
  {
   "cell_type": "code",
   "execution_count": 41,
   "id": "84bf50f9-843e-4019-9cfd-2e620f5d7f2d",
   "metadata": {
    "tags": []
   },
   "outputs": [],
   "source": [
    "admins_sanitized_data = admins_sanitized_data[admins_sanitized_data[\"user_name\"].isin(admins_data_logins)]"
   ]
  },
  {
   "cell_type": "markdown",
   "id": "ee142cc5-1dee-412e-a78b-565d4e49bfb7",
   "metadata": {},
   "source": [
    "Parse the data"
   ]
  },
  {
   "cell_type": "code",
   "execution_count": 42,
   "id": "90fd94a5-d38a-47e5-9331-3ac418820368",
   "metadata": {
    "tags": []
   },
   "outputs": [],
   "source": [
    "admin_data_parsed = parse_administrator_schema(user_data=admins_sanitized_data)"
   ]
  },
  {
   "cell_type": "markdown",
   "id": "64c72533-275f-45b9-a6a1-677d272d6c57",
   "metadata": {
    "tags": []
   },
   "source": [
    "Insert all admins"
   ]
  },
  {
   "cell_type": "code",
   "execution_count": 43,
   "id": "47bfdadc-5e51-4e0e-a3a4-c08fb0489ebb",
   "metadata": {},
   "outputs": [
    {
     "name": "stdout",
     "output_type": "stream",
     "text": [
      "Elapsed time: 0:00:09.332622\n"
     ]
    }
   ],
   "source": [
    "valdb_new_url = credentials[\"new\"][\"host_url\"]\n",
    "valdb_users = f\"{valdb_new_url}/api/users/\"\n",
    "valdb_admins_mig_errors = bulk_data(\n",
    "    endpoint=valdb_users,\n",
    "    data=admin_data_parsed,\n",
    "    cookies=cookies\n",
    ")"
   ]
  },
  {
   "cell_type": "markdown",
   "id": "b99925b6-fb38-4a73-b4bc-fee4bfdfda45",
   "metadata": {},
   "source": [
    "Display errors if they happened"
   ]
  },
  {
   "cell_type": "code",
   "execution_count": 44,
   "id": "d3828b3b-4985-4aaa-bfe8-f607327cc483",
   "metadata": {
    "tags": []
   },
   "outputs": [
    {
     "name": "stdout",
     "output_type": "stream",
     "text": [
      "Administrator user migration successfully\n"
     ]
    }
   ],
   "source": [
    "if not valdb_admins_mig_errors:\n",
    "    print(\"Administrator user migration successfully\")\n",
    "else:\n",
    "    for user, report in valdb_admins_mig_errors.items():\n",
    "        print(f\"Issues migrating user: {user} information\")\n",
    "        print(\"Request body sent\")\n",
    "        print(report)"
   ]
  },
  {
   "cell_type": "markdown",
   "id": "64a2f7c4-c154-496e-9df9-b739d165e39f",
   "metadata": {},
   "source": [
    "### Releases"
   ]
  },
  {
   "cell_type": "markdown",
   "id": "9939e341-264d-4a22-89bc-ff447152f9db",
   "metadata": {},
   "source": [
    "The data related to the release is splitted between the metadata and its details (status)"
   ]
  },
  {
   "cell_type": "code",
   "execution_count": 45,
   "id": "5384db21-7315-42a8-a606-2214ada4cef7",
   "metadata": {},
   "outputs": [],
   "source": [
    "releases_query = \"\"\"\n",
    "SELECT *\n",
    "FROM CMS_PDMV_VAL.RELEASES R, CMS_PDMV_VAL.STATUS S\n",
    "WHERE R.ID = S.ID\n",
    "\"\"\""
   ]
  },
  {
   "cell_type": "code",
   "execution_count": 46,
   "id": "b23c149a-9ba7-47be-9aef-186aad35a389",
   "metadata": {
    "tags": []
   },
   "outputs": [],
   "source": [
    "releases_data: pandas.DataFrame = pandas.read_sql(releases_query, engine)"
   ]
  },
  {
   "cell_type": "markdown",
   "id": "dd06571f-7373-449c-894e-ebe4ca1d25a6",
   "metadata": {},
   "source": [
    "Delete rows with unknown status kind"
   ]
  },
  {
   "cell_type": "code",
   "execution_count": 47,
   "id": "8094c892-6892-4822-a7c8-519aef73e715",
   "metadata": {
    "tags": []
   },
   "outputs": [],
   "source": [
    "releases_data[\"status_kind\"] = releases_data[\"status_kind\"].str.upper()\n",
    "releases_data = releases_data[releases_data[\"status_kind\"].isin(list(GROUPS_TOKENS.keys()) + [\"SUMMARY\"])]"
   ]
  },
  {
   "cell_type": "markdown",
   "id": "3071b7e2-fc9a-4c8d-ae72-d80ffb9835a5",
   "metadata": {},
   "source": [
    "Make sure that the names have no spaces in between or borders"
   ]
  },
  {
   "cell_type": "code",
   "execution_count": 48,
   "id": "d56286d3-e6eb-4d2e-8887-aab8fa7e5503",
   "metadata": {
    "tags": []
   },
   "outputs": [],
   "source": [
    "releases_data[\"user_name\"] = releases_data[\"user_name\"].apply(lambda name: clean_spaces(name))"
   ]
  },
  {
   "cell_type": "markdown",
   "id": "d8255743-2fd8-4814-b4ee-9c5f94aa72c0",
   "metadata": {},
   "source": [
    "Create all author users that exist in all reports. We may find usernames and emails related to users who are no longer active at CERN.\n",
    "They will be omitted, their name will be added as a comment within the report content."
   ]
  },
  {
   "cell_type": "code",
   "execution_count": 49,
   "id": "7fa65efc-e6c0-4b7a-9105-7c39f181b8fd",
   "metadata": {},
   "outputs": [],
   "source": [
    "%%capture\n",
    "start_time_releases_user_name = datetime.now()\n",
    "releases_user_name = [\n",
    "    retrieve_user_information(fullname=report_username)\n",
    "    for report_username\n",
    "    in list(releases_data[\"user_name\"].unique())\n",
    "]\n",
    "end_time_releases_user_name = datetime.now()"
   ]
  },
  {
   "cell_type": "code",
   "execution_count": 50,
   "id": "2aaa6962-4eb4-4608-82ce-ffc0f082e931",
   "metadata": {},
   "outputs": [
    {
     "name": "stdout",
     "output_type": "stream",
     "text": [
      "Elapsed time: 0:01:26.240251\n"
     ]
    }
   ],
   "source": [
    "print(f\"Elapsed time: {end_time_releases_user_name - start_time_releases_user_name}\")"
   ]
  },
  {
   "cell_type": "markdown",
   "id": "e372d6af-59f0-49b8-851e-1936841e86c1",
   "metadata": {},
   "source": [
    "There are **325** registered users in the ValDB production environment. Only **216** of them are currently active at CERN."
   ]
  },
  {
   "cell_type": "code",
   "execution_count": 51,
   "id": "57a12edc-646f-4549-83e5-aba5b7810512",
   "metadata": {
    "tags": []
   },
   "outputs": [],
   "source": [
    "releases_user_name = [r for r in releases_user_name if r]"
   ]
  },
  {
   "cell_type": "markdown",
   "id": "25476760-9d7b-4a56-aaa5-d66fe2319fce",
   "metadata": {},
   "source": [
    "Next step: Register users who are currently active"
   ]
  },
  {
   "cell_type": "code",
   "execution_count": 52,
   "id": "7701e285-ec2c-4100-90e0-5cd73c6c9c9d",
   "metadata": {
    "tags": []
   },
   "outputs": [],
   "source": [
    "valdb_new_url = credentials[\"new\"][\"host_url\"]\n",
    "valdb_users = f\"{valdb_new_url}/api/users/\"\n",
    "valdb_report_users_mig_errors = {}\n",
    "for report_user_data in releases_user_name:    \n",
    "    request_user_data = {\n",
    "        \"email\": str(report_user_data[\"user_email\"]).lower(),\n",
    "        \"fullname\": report_user_data[\"displayname\"],\n",
    "        \"groups\": [],\n",
    "        \"role\": 3\n",
    "    }\n",
    "    response = requests.post(url=valdb_users, json=request_user_data, cookies=cookies)\n",
    "    if response.status_code != 200:\n",
    "        valdb_report_users_mig_errors[username] = {\n",
    "            \"body\": info,\n",
    "            \"response\": response\n",
    "        }"
   ]
  },
  {
   "cell_type": "code",
   "execution_count": 53,
   "id": "85702058-dd3d-4552-b41d-7cb397a96530",
   "metadata": {
    "tags": []
   },
   "outputs": [
    {
     "name": "stdout",
     "output_type": "stream",
     "text": [
      "Users who wrote releases migrated successfully\n"
     ]
    }
   ],
   "source": [
    "if not valdb_report_users_mig_errors:\n",
    "    print(\"Users who wrote releases migrated successfully\")\n",
    "else:\n",
    "    for user, report in valdb_admins_mig_errors.items():\n",
    "        print(f\"Issues migrating user: {user} information\")\n",
    "        print(\"Request body sent\")\n",
    "        print(report)"
   ]
  },
  {
   "cell_type": "code",
   "execution_count": 54,
   "id": "c198a7e8-bd31-4401-8c8f-cbfb97ee4b03",
   "metadata": {
    "tags": []
   },
   "outputs": [],
   "source": [
    "releases_user_data: pandas.DataFrame = pandas.DataFrame(releases_user_name)"
   ]
  },
  {
   "cell_type": "code",
   "execution_count": 55,
   "id": "3283fe15-7ad5-4537-88a3-3c439743dea0",
   "metadata": {
    "tags": []
   },
   "outputs": [],
   "source": [
    "releases_with_user_data = releases_data.merge(\n",
    "    right=releases_user_data,\n",
    "    how=\"left\",\n",
    "    left_on=\"user_name\",\n",
    "    right_on=\"displayname\",\n",
    "    copy=True\n",
    ")"
   ]
  },
  {
   "cell_type": "markdown",
   "id": "a5fb8765-0cfa-48da-bff0-f05b40bfa758",
   "metadata": {},
   "source": [
    "**Be aware of NaN values**"
   ]
  },
  {
   "cell_type": "code",
   "execution_count": 56,
   "id": "aed87de1-356b-4e9c-9e9d-956a27c05efd",
   "metadata": {
    "tags": []
   },
   "outputs": [],
   "source": [
    "releases_with_user_data = releases_with_user_data.fillna(\"\")"
   ]
  },
  {
   "cell_type": "markdown",
   "id": "48075d84-24ec-4a54-8d39-4146770728bd",
   "metadata": {},
   "source": [
    "Remove useless columns"
   ]
  },
  {
   "cell_type": "code",
   "execution_count": 57,
   "id": "aa7a0b7e-bbb6-43de-94bd-2a4c8daf7eff",
   "metadata": {
    "tags": []
   },
   "outputs": [],
   "source": [
    "releases_with_user_data = releases_with_user_data.drop(labels=\"id\", axis=1)"
   ]
  },
  {
   "cell_type": "markdown",
   "id": "0af705f7-5b33-494e-a957-7c0bd7e954f3",
   "metadata": {},
   "source": [
    "Append the author email to the content in case the user is no longer active inside CERN"
   ]
  },
  {
   "cell_type": "code",
   "execution_count": 63,
   "id": "051c0282-ae00-4b23-8b85-023e5695f4b3",
   "metadata": {
    "tags": []
   },
   "outputs": [],
   "source": [
    "def parse_releases_schema(releases_data: pandas.DataFrame) -> dict:\n",
    "    campaigns = {}\n",
    "    campaign_schema = {\n",
    "        \"name\": None,\n",
    "        \"description\": \"\",\n",
    "        \"deadline\": None,\n",
    "        \"target_release\": None,\n",
    "        \"reference_release\": None,\n",
    "        \"relmon\": None,\n",
    "        \"subcategories\": set(),\n",
    "        \"reports\": [],\n",
    "        \"is_open\": False        \n",
    "    }\n",
    "    report_schema = {\n",
    "        \"authors\": [],\n",
    "        \"group\": None,\n",
    "        \"campaign_name\": None,\n",
    "        \"status\": None,\n",
    "        \"content\": \"\"\n",
    "    }\n",
    "    releases_data_json = releases_data.to_dict(orient=\"records\")\n",
    "    for row in releases_data_json:\n",
    "            current_release_name = str(row[\"release_name\"])\n",
    "            current_campaign = campaigns.get(current_release_name)\n",
    "            release_date = row[\"date\"].to_pydatetime().date()\n",
    "            if not current_campaign:\n",
    "                current_campaign = deepcopy(campaign_schema)\n",
    "                current_campaign[\"name\"] = current_release_name\n",
    "                current_campaign[\"deadline\"] = release_date\n",
    "                current_campaign[\"relmon\"] = row[\"relmon_url\"]\n",
    "\n",
    "            # Build the report object\n",
    "            current_report = deepcopy(report_schema)\n",
    "            \n",
    "            # If author email was successfully retrieved from CERN LDAP\n",
    "            # append it inside the report object. Web server will query for it\n",
    "            # and append the user ID.\n",
    "            #\n",
    "            # Else, append the author name into the content section\n",
    "            author_email = row[\"user_email\"]\n",
    "            author_name = row[\"user_name\"]\n",
    "            \n",
    "            if author_email:                \n",
    "                current_report[\"authors\"] += [str(author_email).lower()]\n",
    "\n",
    "            # Build group identifier\n",
    "            category = row[\"category\"]\n",
    "            subcategory = row[\"subcategory\"]\n",
    "            status_kind = row[\"status_kind\"]\n",
    "            \n",
    "            # If STATUS_KIND == SUMMARY, this release has the description for the campaign\n",
    "            # Do not persist it as a report            \n",
    "            comments = row[\"comments\"] if row[\"comments\"] else \"No comments provided\"\n",
    "            links = row[\"links\"] if row[\"links\"] else \"\"\n",
    "            links = sanetize_links(content=links)\n",
    "            author_not_found_inside_ldap = f\"Author: {author_name}\" if not author_email else \"\"\n",
    "            \n",
    "            if status_kind == \"SUMMARY\":\n",
    "                current_campaign[\"description\"] = f\"\"\"Comments: {comments} \\n Links: {links}\"\"\"\n",
    "                target_release = str(sanetize(pattern=TARGET_REGEX, content=comments))\n",
    "                reference_release = str(sanetize(pattern=REFERENCE_REGEX, content=comments))\n",
    "                \n",
    "                if target_release:\n",
    "                    target_release = target_release.split(SPACE)[1]\n",
    "                \n",
    "                if reference_release:\n",
    "                    reference_release = reference_release.split(SPACE)[1] if target_release else \"\"\n",
    "                \n",
    "                current_campaign[\"target_release\"] = target_release\n",
    "                current_campaign[\"reference_release\"] = reference_release\n",
    "            else:\n",
    "                current_report[\"content\"] = f\"\"\"Comments: {comments} \\n Links: {links} \\n {author_not_found_inside_ldap}\"\"\"\n",
    "\n",
    "                # Build Group Identifier\n",
    "                group_id = parse_group_id(\n",
    "                    category=category,\n",
    "                    subcategory=subcategory,\n",
    "                    status_kind=status_kind\n",
    "                )\n",
    "\n",
    "                current_report[\"group\"] = group_id\n",
    "                current_report[\"campaign_name\"] = current_release_name\n",
    "                current_report[\"status\"] = REPORT_STATUS[row[\"validation_status\"].strip()]\n",
    "\n",
    "                # Append the report and its group\n",
    "                current_campaign[\"reports\"] += [current_report]\n",
    "                \n",
    "            # Fill other campaign attributes\n",
    "            subcategory_id = parse_group_id(\n",
    "                category=category,\n",
    "                subcategory=subcategory,\n",
    "            )\n",
    "            current_campaign[\"subcategories\"] = current_campaign[\"subcategories\"].union(set([subcategory_id]))\n",
    "            \n",
    "            # Final checks:\n",
    "            # 1. Always set the deadline with the latest available date\n",
    "            # 2. If the deadline date is after some reference date, set the campaign as open\n",
    "            if current_campaign[\"deadline\"] < release_date:\n",
    "                current_campaign[\"deadline\"] = release_date\n",
    "\n",
    "            if current_campaign[\"deadline\"] > DATE_REFERENCE:\n",
    "                current_campaign[\"is_open\"] = True\n",
    "\n",
    "            # Persist for next iteration\n",
    "            campaigns[current_release_name] = current_campaign\n",
    "        \n",
    "    return campaigns"
   ]
  },
  {
   "cell_type": "code",
   "execution_count": 64,
   "id": "13bf28d6-7590-4640-a3c4-cb13679aea62",
   "metadata": {
    "tags": []
   },
   "outputs": [],
   "source": [
    "releases_data_parsed = parse_releases_schema(releases_data=releases_with_user_data)\n",
    "releases_data_parsed = json.loads(json.dumps(releases_data_parsed, default=parse))"
   ]
  },
  {
   "cell_type": "markdown",
   "id": "99ccb1b7-1e86-4e60-abed-f320cef0ac1d",
   "metadata": {},
   "source": [
    "Migrate all the releases"
   ]
  },
  {
   "cell_type": "code",
   "execution_count": 65,
   "id": "a4f6c9dd-e491-4471-a3a2-bb96a52a308a",
   "metadata": {
    "tags": []
   },
   "outputs": [
    {
     "name": "stdout",
     "output_type": "stream",
     "text": [
      "Elapsed time: 0:11:29.493949\n"
     ]
    }
   ],
   "source": [
    "release_migration_start_time = datetime.now()\n",
    "\n",
    "valdb_new_url = credentials[\"new\"][\"host_url\"]\n",
    "valdb_migration_campaign = f\"{valdb_new_url}/api/campaigns/migrate/\"\n",
    "valdb_campaign_mig_errors = {}\n",
    "execute_migration = True\n",
    "if execute_migration:\n",
    "    valdb_campaign_mig_errors = bulk_data(\n",
    "        endpoint=valdb_migration_campaign,\n",
    "        data=releases_data_parsed,\n",
    "        cookies=cookies\n",
    "    )\n",
    "\n",
    "if not valdb_campaign_mig_errors:\n",
    "    print(\"Releases migrated successfully\")\n",
    "else:\n",
    "    storage_path = \"./data/migration-issues.json\"\n",
    "    with open(storage_path, \"w\", encoding=\"utf-8\") as fp:\n",
    "        json.dump(valdb_campaign_mig_errors, fp=fp, indent=4, default=parse)\n",
    "        \n",
    "release_migration_end_time = datetime.now()"
   ]
  },
  {
   "cell_type": "code",
   "execution_count": 66,
   "id": "1e54398b-a71e-4f05-8bec-e19a454325b0",
   "metadata": {
    "tags": []
   },
   "outputs": [
    {
     "name": "stdout",
     "output_type": "stream",
     "text": [
      "Elapsed time: 0:11:29.527442\n"
     ]
    }
   ],
   "source": [
    "print(f\"Elapsed time: {release_migration_end_time - release_migration_start_time}\")"
   ]
  }
 ],
 "metadata": {
  "kernelspec": {
   "display_name": "Python 3 (ipykernel)",
   "language": "python",
   "name": "python3"
  },
  "language_info": {
   "codemirror_mode": {
    "name": "ipython",
    "version": 3
   },
   "file_extension": ".py",
   "mimetype": "text/x-python",
   "name": "python",
   "nbconvert_exporter": "python",
   "pygments_lexer": "ipython3",
   "version": "3.11.1"
  }
 },
 "nbformat": 4,
 "nbformat_minor": 5
}
